{
  "nbformat": 4,
  "nbformat_minor": 0,
  "metadata": {
    "colab": {
      "provenance": [],
      "authorship_tag": "ABX9TyOKe4s4W//F8tg1yiLptp8f",
      "include_colab_link": true
    },
    "kernelspec": {
      "name": "python3",
      "display_name": "Python 3"
    },
    "language_info": {
      "name": "python"
    }
  },
  "cells": [
    {
      "cell_type": "markdown",
      "metadata": {
        "id": "view-in-github",
        "colab_type": "text"
      },
      "source": [
        "<a href=\"https://colab.research.google.com/github/ezequielcabeja/Aperfeicoado-_Imersao_Concurso/blob/main/Untitled13.ipynb\" target=\"_parent\"><img src=\"https://colab.research.google.com/assets/colab-badge.svg\" alt=\"Open In Colab\"/></a>"
      ]
    },
    {
      "cell_type": "code",
      "execution_count": 3,
      "metadata": {
        "colab": {
          "base_uri": "https://localhost:8080/"
        },
        "id": "bve3hD6gkh12",
        "outputId": "617c0c9f-e99b-45e2-aa87-028e248d3083"
      },
      "outputs": [
        {
          "output_type": "stream",
          "name": "stdout",
          "text": [
            "\n",
            "--- Nível 1 ---\n",
            "A palavra secreta tem 3 letras\n",
            "A dica é -> gerenciar e consultar bancos de dados relacionais.\n",
            "O que você acha que é? R: hdj\n",
            "Errou... Restam 2 tentativas.\n",
            "Quer uma dica do Gemini? (s/n): n\n",
            "Ok, continue tentando.\n",
            "O que você acha que é? R: vc\n",
            "Errou... Restam 1 tentativas.\n",
            "Quer uma dica do Gemini? (s/n): n\n",
            "Ok, continue tentando.\n",
            "O que você acha que é? R: c\n",
            "Errou... Restam 0 tentativas.\n",
            "Você perdeu! A palavra secreta era 'sql'.\n",
            "\n",
            "Pontuação final: 0\n"
          ]
        }
      ],
      "source": [
        "# Importa as bibliotecas necessárias\n",
        "import requests\n",
        "import random\n",
        "import google.generativeai as genai\n",
        "import textwrap\n",
        "from IPython.display import display\n",
        "from IPython.display import Markdown\n",
        "\n",
        "# Configura a API do Google Generative AI\n",
        "GOOGLE_API_KEY = 'SUA_CHAVE_API_AQUI'  # Substitua pela sua chave de API\n",
        "genai.configure(api_key=GOOGLE_API_KEY)\n",
        "\n",
        "# Função para formatar a saída como Markdown\n",
        "def to_markdown(text):\n",
        "    text = text.replace('•', '   *')\n",
        "    return Markdown(textwrap.indent(text, '> ', predicate=lambda _: True))\n",
        "\n",
        "# Obtém a lista de palavras do JSON\n",
        "url = 'https://raw.githubusercontent.com/guilhermeonrails/api-imersao-ia/main/words.json'\n",
        "resposta = requests.get(url)\n",
        "data = resposta.json()\n",
        "\n",
        "# Define os níveis do jogo\n",
        "niveis = {\n",
        "    1: {\"pontos\": 10, \"premio\": \"Um parabéns! 🥳\"},\n",
        "    2: {\"pontos\": 20, \"premio\": \"Um emoji maneiro! 😎\"},\n",
        "    3: {\"pontos\": 30, \"premio\": \"Uma salva de palmas! 👏👏👏\"}\n",
        "}\n",
        "\n",
        "# Inicia o jogo no nível 1\n",
        "nivel_atual = 1\n",
        "pontos = 0\n",
        "\n",
        "# Inicia o chat com o Gemini\n",
        "model = genai.GenerativeModel(model_name='gemini-1.0-pro')\n",
        "chat = model.start_chat(history=[])\n",
        "\n",
        "while nivel_atual <= len(niveis):\n",
        "    print(f\"\\n--- Nível {nivel_atual} ---\")\n",
        "\n",
        "    # Escolhe uma palavra secreta aleatória\n",
        "    valor_secreto = random.choice(data)\n",
        "    palavra_secreta = valor_secreto['palavra']\n",
        "    dica = valor_secreto['dica']\n",
        "\n",
        "    print(f'A palavra secreta tem {len(palavra_secreta)} letras')\n",
        "    print(f'A dica é -> {dica}')\n",
        "\n",
        "    tentativas = 3\n",
        "    while tentativas > 0:\n",
        "        chute = input('O que você acha que é? R: ')\n",
        "\n",
        "        if chute == palavra_secreta:\n",
        "            print(f\"Acertou! Você ganhou {niveis[nivel_atual]['pontos']} pontos!\")\n",
        "            pontos += niveis[nivel_atual]['pontos']\n",
        "            print(f\"Prêmio: {niveis[nivel_atual]['premio']}\")\n",
        "            nivel_atual += 1\n",
        "            break  # Passa para o próximo nível\n",
        "        else:\n",
        "            tentativas -= 1\n",
        "            print(f'Errou... Restam {tentativas} tentativas.')\n",
        "            if tentativas > 0:\n",
        "                quer_dica = input('Quer uma dica do Gemini? (s/n): ').lower()\n",
        "                if quer_dica == 's':\n",
        "                    prompt = f\"Me dê uma dica adicional para a palavra '{palavra_secreta}', que se relaciona com '{dica}'.\"\n",
        "                    response = chat.send_message(prompt)\n",
        "                    for message in chat.history:\n",
        "                        display(to_markdown(f'**{message.role}**: {message.parts[0].text}'))\n",
        "                        print('-------------------------------------------')\n",
        "                elif quer_dica == 'n':\n",
        "                    print(\"Ok, continue tentando.\")\n",
        "                else:\n",
        "                    print(\"Opção inválida. Tente novamente.\")\n",
        "\n",
        "    if tentativas == 0:\n",
        "        print(f\"Você perdeu! A palavra secreta era '{palavra_secreta}'.\")\n",
        "        break  # Sai do loop se perder todas as tentativas\n",
        "\n",
        "if nivel_atual > len(niveis):\n",
        "    print(\"\\nParabéns! Você completou todos os níveis!\")\n",
        "print(f\"\\nPontuação final: {pontos}\")"
      ]
    }
  ]
}